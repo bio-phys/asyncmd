{
 "cells": [
  {
   "cell_type": "markdown",
   "metadata": {},
   "source": [
    "# `asyncmd.trajectory.PyTrajectoryFunctionWrapper`\n",
    "\n",
    "`asyncmd.trajectory.PyTrajectoryFunctionWrapper` is a wrapper around any python function which can be applied to `asyncmd.Trajectory` objects. The wrapped function is turned into an asynchronously callable subprocess and the results are cached for each trajectory such that reapplying a function is cheap. Asynchronous functions can also be wrapped and will be cached.\n",
    "\n",
    "Turning a synchronous python function into an asynchronously callable (awaitable) is achieved by applying the function in a separate thread to the trajectory. This enables the use of multiple cores by trivial parallelization, i.e. applying the same function to multiple different trajectories at once. The caching of values works by calculating a hash of the wrapped function and its call arguments. This way each `asyncmd.Trajectory` knows about the wrapped functions which have already been applied and each result is only calculated once.\n",
    "\n",
    "We will use the `PyTrajectoryFunctionWrapper` here to wrap a couple of functions used to describe capped alanine dipeptide. The content of the file `ala_cv_funcs.py` is printed below. It contains two state functions (`alpha_R` and `C7_eq`) and a descriptor function returning the two dihedrals $\\psi$ and $\\phi$ (`descriptor_func_psi_phi` and `descriptor_func_ic`). Please have a look at the state functions we import to make sure you understand what they return. You will need to be able to write state functions providing the state for every frame of a trajectory (i.e. the stopping conditions) for your molecular system of interest yourself to use `asyncmd`s conditional trajectory propagation to its full potential. Descriptor functions work the same as state functions, except that they return an array of floats instead of boolean values for each frame, i.e. they can be everything from a collective variable/analysis function to the function mapping molecular configurations to the space your machine learning algorithm operates in.\n",
    "\n",
    "In addition to the state and descriptor functions the file `ala_cv_funcs.py` also contains some code for parsing command line arguments, which you can ignore for now. It contains this code because it can/will also be used as an executable for the `SlurmTrajectoryFunctionWrapper`."
   ]
  },
  {
   "cell_type": "markdown",
   "metadata": {},
   "source": [
    "## Imports"
   ]
  },
  {
   "cell_type": "code",
   "execution_count": 1,
   "metadata": {},
   "outputs": [],
   "source": [
    "%matplotlib inline"
   ]
  },
  {
   "cell_type": "code",
   "execution_count": 2,
   "metadata": {},
   "outputs": [],
   "source": [
    "import os\n",
    "import asyncio\n",
    "import matplotlib.pyplot as plt\n",
    "import numpy as np\n",
    "import MDAnalysis as mda"
   ]
  },
  {
   "cell_type": "code",
   "execution_count": 3,
   "metadata": {},
   "outputs": [
    {
     "name": "stderr",
     "output_type": "stream",
     "text": [
      "Could not initialize SLURM cluster handling. If you are sure SLURM (sinfo/sacct/etc) is available try calling `asyncmd.config.set_slurm_settings()` with the appropriate arguments.\n"
     ]
    }
   ],
   "source": [
    "import asyncmd\n",
    "from asyncmd import trajectory as asynctraj"
   ]
  },
  {
   "cell_type": "markdown",
   "metadata": {},
   "source": [
    "## Have a look at the function definitions"
   ]
  },
  {
   "cell_type": "code",
   "execution_count": 4,
   "metadata": {},
   "outputs": [
    {
     "data": {
      "text/html": [
       "<style type=\"text/css\">pre { line-height: 125%; }\n",
       "td.linenos .normal { color: inherit; background-color: transparent; padding-left: 5px; padding-right: 5px; }\n",
       "span.linenos { color: inherit; background-color: transparent; padding-left: 5px; padding-right: 5px; }\n",
       "td.linenos .special { color: #000000; background-color: #ffffc0; padding-left: 5px; padding-right: 5px; }\n",
       "span.linenos.special { color: #000000; background-color: #ffffc0; padding-left: 5px; padding-right: 5px; }\n",
       ".highlight .hll { background-color: #ffffcc }\n",
       ".highlight { background: #f8f8f8; }\n",
       ".highlight .c { color: #3D7B7B; font-style: italic } /* Comment */\n",
       ".highlight .err { border: 1px solid #F00 } /* Error */\n",
       ".highlight .k { color: #008000; font-weight: bold } /* Keyword */\n",
       ".highlight .o { color: #666 } /* Operator */\n",
       ".highlight .ch { color: #3D7B7B; font-style: italic } /* Comment.Hashbang */\n",
       ".highlight .cm { color: #3D7B7B; font-style: italic } /* Comment.Multiline */\n",
       ".highlight .cp { color: #9C6500 } /* Comment.Preproc */\n",
       ".highlight .cpf { color: #3D7B7B; font-style: italic } /* Comment.PreprocFile */\n",
       ".highlight .c1 { color: #3D7B7B; font-style: italic } /* Comment.Single */\n",
       ".highlight .cs { color: #3D7B7B; font-style: italic } /* Comment.Special */\n",
       ".highlight .gd { color: #A00000 } /* Generic.Deleted */\n",
       ".highlight .ge { font-style: italic } /* Generic.Emph */\n",
       ".highlight .ges { font-weight: bold; font-style: italic } /* Generic.EmphStrong */\n",
       ".highlight .gr { color: #E40000 } /* Generic.Error */\n",
       ".highlight .gh { color: #000080; font-weight: bold } /* Generic.Heading */\n",
       ".highlight .gi { color: #008400 } /* Generic.Inserted */\n",
       ".highlight .go { color: #717171 } /* Generic.Output */\n",
       ".highlight .gp { color: #000080; font-weight: bold } /* Generic.Prompt */\n",
       ".highlight .gs { font-weight: bold } /* Generic.Strong */\n",
       ".highlight .gu { color: #800080; font-weight: bold } /* Generic.Subheading */\n",
       ".highlight .gt { color: #04D } /* Generic.Traceback */\n",
       ".highlight .kc { color: #008000; font-weight: bold } /* Keyword.Constant */\n",
       ".highlight .kd { color: #008000; font-weight: bold } /* Keyword.Declaration */\n",
       ".highlight .kn { color: #008000; font-weight: bold } /* Keyword.Namespace */\n",
       ".highlight .kp { color: #008000 } /* Keyword.Pseudo */\n",
       ".highlight .kr { color: #008000; font-weight: bold } /* Keyword.Reserved */\n",
       ".highlight .kt { color: #B00040 } /* Keyword.Type */\n",
       ".highlight .m { color: #666 } /* Literal.Number */\n",
       ".highlight .s { color: #BA2121 } /* Literal.String */\n",
       ".highlight .na { color: #687822 } /* Name.Attribute */\n",
       ".highlight .nb { color: #008000 } /* Name.Builtin */\n",
       ".highlight .nc { color: #00F; font-weight: bold } /* Name.Class */\n",
       ".highlight .no { color: #800 } /* Name.Constant */\n",
       ".highlight .nd { color: #A2F } /* Name.Decorator */\n",
       ".highlight .ni { color: #717171; font-weight: bold } /* Name.Entity */\n",
       ".highlight .ne { color: #CB3F38; font-weight: bold } /* Name.Exception */\n",
       ".highlight .nf { color: #00F } /* Name.Function */\n",
       ".highlight .nl { color: #767600 } /* Name.Label */\n",
       ".highlight .nn { color: #00F; font-weight: bold } /* Name.Namespace */\n",
       ".highlight .nt { color: #008000; font-weight: bold } /* Name.Tag */\n",
       ".highlight .nv { color: #19177C } /* Name.Variable */\n",
       ".highlight .ow { color: #A2F; font-weight: bold } /* Operator.Word */\n",
       ".highlight .w { color: #BBB } /* Text.Whitespace */\n",
       ".highlight .mb { color: #666 } /* Literal.Number.Bin */\n",
       ".highlight .mf { color: #666 } /* Literal.Number.Float */\n",
       ".highlight .mh { color: #666 } /* Literal.Number.Hex */\n",
       ".highlight .mi { color: #666 } /* Literal.Number.Integer */\n",
       ".highlight .mo { color: #666 } /* Literal.Number.Oct */\n",
       ".highlight .sa { color: #BA2121 } /* Literal.String.Affix */\n",
       ".highlight .sb { color: #BA2121 } /* Literal.String.Backtick */\n",
       ".highlight .sc { color: #BA2121 } /* Literal.String.Char */\n",
       ".highlight .dl { color: #BA2121 } /* Literal.String.Delimiter */\n",
       ".highlight .sd { color: #BA2121; font-style: italic } /* Literal.String.Doc */\n",
       ".highlight .s2 { color: #BA2121 } /* Literal.String.Double */\n",
       ".highlight .se { color: #AA5D1F; font-weight: bold } /* Literal.String.Escape */\n",
       ".highlight .sh { color: #BA2121 } /* Literal.String.Heredoc */\n",
       ".highlight .si { color: #A45A77; font-weight: bold } /* Literal.String.Interpol */\n",
       ".highlight .sx { color: #008000 } /* Literal.String.Other */\n",
       ".highlight .sr { color: #A45A77 } /* Literal.String.Regex */\n",
       ".highlight .s1 { color: #BA2121 } /* Literal.String.Single */\n",
       ".highlight .ss { color: #19177C } /* Literal.String.Symbol */\n",
       ".highlight .bp { color: #008000 } /* Name.Builtin.Pseudo */\n",
       ".highlight .fm { color: #00F } /* Name.Function.Magic */\n",
       ".highlight .vc { color: #19177C } /* Name.Variable.Class */\n",
       ".highlight .vg { color: #19177C } /* Name.Variable.Global */\n",
       ".highlight .vi { color: #19177C } /* Name.Variable.Instance */\n",
       ".highlight .vm { color: #19177C } /* Name.Variable.Magic */\n",
       ".highlight .il { color: #666 } /* Literal.Number.Integer.Long */</style><div class=\"highlight\"><pre><span></span><span class=\"ch\">#!/usr/bin/env python3</span>\n",
       "<span class=\"sd\">&quot;&quot;&quot;</span>\n",
       "<span class=\"sd\">State und descriptor functions for capped alanine dipetide.</span>\n",
       "<span class=\"sd\">&quot;&quot;&quot;</span>\n",
       "<span class=\"kn\">import</span><span class=\"w\"> </span><span class=\"nn\">argparse</span>\n",
       "<span class=\"kn\">import</span><span class=\"w\"> </span><span class=\"nn\">numpy</span><span class=\"w\"> </span><span class=\"k\">as</span><span class=\"w\"> </span><span class=\"nn\">np</span>\n",
       "<span class=\"kn\">import</span><span class=\"w\"> </span><span class=\"nn\">MDAnalysis</span><span class=\"w\"> </span><span class=\"k\">as</span><span class=\"w\"> </span><span class=\"nn\">mda</span>\n",
       "<span class=\"kn\">from</span><span class=\"w\"> </span><span class=\"nn\">MDAnalysis.lib.distances</span><span class=\"w\"> </span><span class=\"kn\">import</span> <span class=\"n\">calc_dihedrals</span>\n",
       "\n",
       "\n",
       "<span class=\"k\">def</span><span class=\"w\"> </span><span class=\"nf\">alpha_R</span><span class=\"p\">(</span><span class=\"n\">traj</span><span class=\"p\">,</span> <span class=\"n\">skip</span><span class=\"o\">=</span><span class=\"mi\">1</span><span class=\"p\">):</span>\n",
       "<span class=\"w\">    </span><span class=\"sd\">&quot;&quot;&quot;</span>\n",
       "<span class=\"sd\">    Calculate alpha_R state function.</span>\n",
       "\n",
       "<span class=\"sd\">    The alpha_R state is defined in the space of the two dihedral angles psi</span>\n",
       "<span class=\"sd\">    and phi, for a configuration to belong to the state:</span>\n",
       "<span class=\"sd\">        phi: -pi &lt; phi &lt; 0</span>\n",
       "<span class=\"sd\">        psi: -50 degree &lt; psi &lt; 30 degree</span>\n",
       "\n",
       "<span class=\"sd\">    Parameters</span>\n",
       "<span class=\"sd\">    ----------</span>\n",
       "<span class=\"sd\">    traj : asyncmd.Trajectory</span>\n",
       "<span class=\"sd\">        The trajectory for which the state function is calculated.</span>\n",
       "<span class=\"sd\">    skip : int, optional</span>\n",
       "<span class=\"sd\">        stride for trajectory iteration, by default 1</span>\n",
       "\n",
       "<span class=\"sd\">    Returns</span>\n",
       "<span class=\"sd\">    -------</span>\n",
       "<span class=\"sd\">    numpy.ndarray, shape=(n_frames,)</span>\n",
       "<span class=\"sd\">        Array with boolean values for every configuration on the trajectory</span>\n",
       "<span class=\"sd\">        indicating if a configuration falls into the state or not.</span>\n",
       "<span class=\"sd\">    &quot;&quot;&quot;</span>\n",
       "    <span class=\"n\">u</span> <span class=\"o\">=</span> <span class=\"n\">mda</span><span class=\"o\">.</span><span class=\"n\">Universe</span><span class=\"p\">(</span><span class=\"n\">traj</span><span class=\"o\">.</span><span class=\"n\">structure_file</span><span class=\"p\">,</span> <span class=\"o\">*</span><span class=\"n\">traj</span><span class=\"o\">.</span><span class=\"n\">trajectory_files</span><span class=\"p\">)</span>\n",
       "    <span class=\"n\">psi_ag</span> <span class=\"o\">=</span> <span class=\"n\">u</span><span class=\"o\">.</span><span class=\"n\">select_atoms</span><span class=\"p\">(</span><span class=\"s2\">&quot;resname ALA and name N&quot;</span><span class=\"p\">)</span>  <span class=\"c1\"># idx 6</span>\n",
       "    <span class=\"n\">psi_ag</span> <span class=\"o\">+=</span> <span class=\"n\">u</span><span class=\"o\">.</span><span class=\"n\">select_atoms</span><span class=\"p\">(</span><span class=\"s2\">&quot;resname ALA and name CA&quot;</span><span class=\"p\">)</span>  <span class=\"c1\"># idx 8</span>\n",
       "    <span class=\"n\">psi_ag</span> <span class=\"o\">+=</span> <span class=\"n\">u</span><span class=\"o\">.</span><span class=\"n\">select_atoms</span><span class=\"p\">(</span><span class=\"s2\">&quot;resname ALA and name C&quot;</span><span class=\"p\">)</span>  <span class=\"c1\"># idx 14</span>\n",
       "    <span class=\"n\">psi_ag</span> <span class=\"o\">+=</span> <span class=\"n\">u</span><span class=\"o\">.</span><span class=\"n\">select_atoms</span><span class=\"p\">(</span><span class=\"s2\">&quot;resname NME and name N&quot;</span><span class=\"p\">)</span>  <span class=\"c1\"># idx 16</span>\n",
       "    <span class=\"n\">phi_ag</span> <span class=\"o\">=</span> <span class=\"n\">u</span><span class=\"o\">.</span><span class=\"n\">select_atoms</span><span class=\"p\">(</span><span class=\"s2\">&quot;resname ACE and name C&quot;</span><span class=\"p\">)</span>  <span class=\"c1\"># idx 4</span>\n",
       "    <span class=\"n\">phi_ag</span> <span class=\"o\">+=</span> <span class=\"n\">u</span><span class=\"o\">.</span><span class=\"n\">select_atoms</span><span class=\"p\">(</span><span class=\"s2\">&quot;resname ALA and name N&quot;</span><span class=\"p\">)</span>  <span class=\"c1\"># idx 6</span>\n",
       "    <span class=\"n\">phi_ag</span> <span class=\"o\">+=</span> <span class=\"n\">u</span><span class=\"o\">.</span><span class=\"n\">select_atoms</span><span class=\"p\">(</span><span class=\"s2\">&quot;resname ALA and name CA&quot;</span><span class=\"p\">)</span>  <span class=\"c1\"># idx 8</span>\n",
       "    <span class=\"n\">phi_ag</span> <span class=\"o\">+=</span> <span class=\"n\">u</span><span class=\"o\">.</span><span class=\"n\">select_atoms</span><span class=\"p\">(</span><span class=\"s2\">&quot;resname ALA and name C&quot;</span><span class=\"p\">)</span>  <span class=\"c1\"># idx 14</span>\n",
       "    <span class=\"c1\"># empty arrays to fill</span>\n",
       "    <span class=\"n\">state</span> <span class=\"o\">=</span> <span class=\"n\">np</span><span class=\"o\">.</span><span class=\"n\">full</span><span class=\"p\">((</span><span class=\"nb\">len</span><span class=\"p\">(</span><span class=\"n\">u</span><span class=\"o\">.</span><span class=\"n\">trajectory</span><span class=\"p\">[::</span><span class=\"n\">skip</span><span class=\"p\">]),),</span> <span class=\"kc\">False</span><span class=\"p\">,</span> <span class=\"n\">dtype</span><span class=\"o\">=</span><span class=\"nb\">bool</span><span class=\"p\">)</span>\n",
       "    <span class=\"n\">phi</span> <span class=\"o\">=</span> <span class=\"n\">np</span><span class=\"o\">.</span><span class=\"n\">empty</span><span class=\"p\">((</span><span class=\"nb\">len</span><span class=\"p\">(</span><span class=\"n\">u</span><span class=\"o\">.</span><span class=\"n\">trajectory</span><span class=\"p\">[::</span><span class=\"n\">skip</span><span class=\"p\">]),),</span> <span class=\"n\">dtype</span><span class=\"o\">=</span><span class=\"n\">np</span><span class=\"o\">.</span><span class=\"n\">float64</span><span class=\"p\">)</span>\n",
       "    <span class=\"n\">psi</span> <span class=\"o\">=</span> <span class=\"n\">np</span><span class=\"o\">.</span><span class=\"n\">empty</span><span class=\"p\">((</span><span class=\"nb\">len</span><span class=\"p\">(</span><span class=\"n\">u</span><span class=\"o\">.</span><span class=\"n\">trajectory</span><span class=\"p\">[::</span><span class=\"n\">skip</span><span class=\"p\">]),),</span> <span class=\"n\">dtype</span><span class=\"o\">=</span><span class=\"n\">np</span><span class=\"o\">.</span><span class=\"n\">float64</span><span class=\"p\">)</span>\n",
       "    <span class=\"k\">for</span> <span class=\"n\">f</span><span class=\"p\">,</span> <span class=\"n\">ts</span> <span class=\"ow\">in</span> <span class=\"nb\">enumerate</span><span class=\"p\">(</span><span class=\"n\">u</span><span class=\"o\">.</span><span class=\"n\">trajectory</span><span class=\"p\">[::</span><span class=\"n\">skip</span><span class=\"p\">]):</span>\n",
       "        <span class=\"n\">phi</span><span class=\"p\">[</span><span class=\"n\">f</span><span class=\"p\">]</span> <span class=\"o\">=</span> <span class=\"n\">calc_dihedrals</span><span class=\"p\">(</span><span class=\"o\">*</span><span class=\"p\">(</span><span class=\"n\">at</span><span class=\"o\">.</span><span class=\"n\">position</span> <span class=\"k\">for</span> <span class=\"n\">at</span> <span class=\"ow\">in</span> <span class=\"n\">phi_ag</span><span class=\"p\">),</span> <span class=\"n\">box</span><span class=\"o\">=</span><span class=\"n\">ts</span><span class=\"o\">.</span><span class=\"n\">dimensions</span><span class=\"p\">)</span>\n",
       "        <span class=\"n\">psi</span><span class=\"p\">[</span><span class=\"n\">f</span><span class=\"p\">]</span> <span class=\"o\">=</span> <span class=\"n\">calc_dihedrals</span><span class=\"p\">(</span><span class=\"o\">*</span><span class=\"p\">(</span><span class=\"n\">at</span><span class=\"o\">.</span><span class=\"n\">position</span> <span class=\"k\">for</span> <span class=\"n\">at</span> <span class=\"ow\">in</span> <span class=\"n\">psi_ag</span><span class=\"p\">),</span> <span class=\"n\">box</span><span class=\"o\">=</span><span class=\"n\">ts</span><span class=\"o\">.</span><span class=\"n\">dimensions</span><span class=\"p\">)</span>\n",
       "    <span class=\"c1\"># make sure MDAnalysis closes the underlying trajectory files directly</span>\n",
       "    <span class=\"n\">u</span><span class=\"o\">.</span><span class=\"n\">trajectory</span><span class=\"o\">.</span><span class=\"n\">close</span><span class=\"p\">()</span>\n",
       "    <span class=\"c1\"># phi: -pi -&gt; 0</span>\n",
       "    <span class=\"c1\"># psi: &gt; -50 but smaller 30 degree</span>\n",
       "    <span class=\"n\">deg</span> <span class=\"o\">=</span> <span class=\"mi\">180</span><span class=\"o\">/</span><span class=\"n\">np</span><span class=\"o\">.</span><span class=\"n\">pi</span>\n",
       "    <span class=\"n\">state</span><span class=\"p\">[(</span><span class=\"n\">phi</span> <span class=\"o\">&lt;=</span> <span class=\"mi\">0</span><span class=\"p\">)</span> <span class=\"o\">&amp;</span> <span class=\"p\">(</span><span class=\"o\">-</span><span class=\"mi\">50</span><span class=\"o\">/</span><span class=\"n\">deg</span> <span class=\"o\">&lt;=</span> <span class=\"n\">psi</span><span class=\"p\">)</span> <span class=\"o\">&amp;</span> <span class=\"p\">(</span><span class=\"n\">psi</span> <span class=\"o\">&lt;=</span> <span class=\"mi\">30</span><span class=\"o\">/</span><span class=\"n\">deg</span><span class=\"p\">)]</span> <span class=\"o\">=</span> <span class=\"kc\">True</span>\n",
       "    <span class=\"k\">return</span> <span class=\"n\">state</span>\n",
       "\n",
       "\n",
       "<span class=\"k\">def</span><span class=\"w\"> </span><span class=\"nf\">C7_eq</span><span class=\"p\">(</span><span class=\"n\">traj</span><span class=\"p\">,</span> <span class=\"n\">skip</span><span class=\"o\">=</span><span class=\"mi\">1</span><span class=\"p\">):</span>\n",
       "<span class=\"w\">    </span><span class=\"sd\">&quot;&quot;&quot;</span>\n",
       "<span class=\"sd\">    Calculate C7_eq state function.</span>\n",
       "\n",
       "<span class=\"sd\">    The C7_eq state is defined in the space of the two dihedral angles psi</span>\n",
       "<span class=\"sd\">    and phi, for a configuration to belong to the state:</span>\n",
       "<span class=\"sd\">        phi: -pi &lt; phi &lt; 0</span>\n",
       "<span class=\"sd\">        psi: 120 degree &lt; psi &lt; 200 degree</span>\n",
       "\n",
       "<span class=\"sd\">    Parameters</span>\n",
       "<span class=\"sd\">    ----------</span>\n",
       "<span class=\"sd\">    traj : asyncmd.Trajectory</span>\n",
       "<span class=\"sd\">        The trajectory for which the state function is calculated.</span>\n",
       "<span class=\"sd\">    skip : int, optional</span>\n",
       "<span class=\"sd\">        stride for trajectory iteration, by default 1</span>\n",
       "\n",
       "<span class=\"sd\">    Returns</span>\n",
       "<span class=\"sd\">    -------</span>\n",
       "<span class=\"sd\">    numpy.ndarray, shape=(n_frames,)</span>\n",
       "<span class=\"sd\">        Array with boolean values for every configuration on the trajectory</span>\n",
       "<span class=\"sd\">        indicating if a configuration falls into the state or not.</span>\n",
       "<span class=\"sd\">    &quot;&quot;&quot;</span>\n",
       "    <span class=\"n\">u</span> <span class=\"o\">=</span> <span class=\"n\">mda</span><span class=\"o\">.</span><span class=\"n\">Universe</span><span class=\"p\">(</span><span class=\"n\">traj</span><span class=\"o\">.</span><span class=\"n\">structure_file</span><span class=\"p\">,</span> <span class=\"o\">*</span><span class=\"n\">traj</span><span class=\"o\">.</span><span class=\"n\">trajectory_files</span><span class=\"p\">)</span>\n",
       "    <span class=\"n\">psi_ag</span> <span class=\"o\">=</span> <span class=\"n\">u</span><span class=\"o\">.</span><span class=\"n\">select_atoms</span><span class=\"p\">(</span><span class=\"s2\">&quot;resname ALA and name N&quot;</span><span class=\"p\">)</span>  <span class=\"c1\"># idx 6</span>\n",
       "    <span class=\"n\">psi_ag</span> <span class=\"o\">+=</span> <span class=\"n\">u</span><span class=\"o\">.</span><span class=\"n\">select_atoms</span><span class=\"p\">(</span><span class=\"s2\">&quot;resname ALA and name CA&quot;</span><span class=\"p\">)</span>  <span class=\"c1\"># idx 8</span>\n",
       "    <span class=\"n\">psi_ag</span> <span class=\"o\">+=</span> <span class=\"n\">u</span><span class=\"o\">.</span><span class=\"n\">select_atoms</span><span class=\"p\">(</span><span class=\"s2\">&quot;resname ALA and name C&quot;</span><span class=\"p\">)</span>  <span class=\"c1\"># idx 14</span>\n",
       "    <span class=\"n\">psi_ag</span> <span class=\"o\">+=</span> <span class=\"n\">u</span><span class=\"o\">.</span><span class=\"n\">select_atoms</span><span class=\"p\">(</span><span class=\"s2\">&quot;resname NME and name N&quot;</span><span class=\"p\">)</span>  <span class=\"c1\"># idx 16</span>\n",
       "    <span class=\"n\">phi_ag</span> <span class=\"o\">=</span> <span class=\"n\">u</span><span class=\"o\">.</span><span class=\"n\">select_atoms</span><span class=\"p\">(</span><span class=\"s2\">&quot;resname ACE and name C&quot;</span><span class=\"p\">)</span>  <span class=\"c1\"># idx 4</span>\n",
       "    <span class=\"n\">phi_ag</span> <span class=\"o\">+=</span> <span class=\"n\">u</span><span class=\"o\">.</span><span class=\"n\">select_atoms</span><span class=\"p\">(</span><span class=\"s2\">&quot;resname ALA and name N&quot;</span><span class=\"p\">)</span>  <span class=\"c1\"># idx 6</span>\n",
       "    <span class=\"n\">phi_ag</span> <span class=\"o\">+=</span> <span class=\"n\">u</span><span class=\"o\">.</span><span class=\"n\">select_atoms</span><span class=\"p\">(</span><span class=\"s2\">&quot;resname ALA and name CA&quot;</span><span class=\"p\">)</span>  <span class=\"c1\"># idx 8</span>\n",
       "    <span class=\"n\">phi_ag</span> <span class=\"o\">+=</span> <span class=\"n\">u</span><span class=\"o\">.</span><span class=\"n\">select_atoms</span><span class=\"p\">(</span><span class=\"s2\">&quot;resname ALA and name C&quot;</span><span class=\"p\">)</span>  <span class=\"c1\"># idx 14</span>\n",
       "    <span class=\"c1\"># empty arrays to fill</span>\n",
       "    <span class=\"n\">state</span> <span class=\"o\">=</span> <span class=\"n\">np</span><span class=\"o\">.</span><span class=\"n\">full</span><span class=\"p\">((</span><span class=\"nb\">len</span><span class=\"p\">(</span><span class=\"n\">u</span><span class=\"o\">.</span><span class=\"n\">trajectory</span><span class=\"p\">[::</span><span class=\"n\">skip</span><span class=\"p\">]),),</span> <span class=\"kc\">False</span><span class=\"p\">,</span> <span class=\"n\">dtype</span><span class=\"o\">=</span><span class=\"nb\">bool</span><span class=\"p\">)</span>\n",
       "    <span class=\"n\">phi</span> <span class=\"o\">=</span> <span class=\"n\">np</span><span class=\"o\">.</span><span class=\"n\">empty</span><span class=\"p\">((</span><span class=\"nb\">len</span><span class=\"p\">(</span><span class=\"n\">u</span><span class=\"o\">.</span><span class=\"n\">trajectory</span><span class=\"p\">[::</span><span class=\"n\">skip</span><span class=\"p\">]),),</span> <span class=\"n\">dtype</span><span class=\"o\">=</span><span class=\"n\">np</span><span class=\"o\">.</span><span class=\"n\">float64</span><span class=\"p\">)</span>\n",
       "    <span class=\"n\">psi</span> <span class=\"o\">=</span> <span class=\"n\">np</span><span class=\"o\">.</span><span class=\"n\">empty</span><span class=\"p\">((</span><span class=\"nb\">len</span><span class=\"p\">(</span><span class=\"n\">u</span><span class=\"o\">.</span><span class=\"n\">trajectory</span><span class=\"p\">[::</span><span class=\"n\">skip</span><span class=\"p\">]),),</span> <span class=\"n\">dtype</span><span class=\"o\">=</span><span class=\"n\">np</span><span class=\"o\">.</span><span class=\"n\">float64</span><span class=\"p\">)</span>\n",
       "    <span class=\"k\">for</span> <span class=\"n\">f</span><span class=\"p\">,</span> <span class=\"n\">ts</span> <span class=\"ow\">in</span> <span class=\"nb\">enumerate</span><span class=\"p\">(</span><span class=\"n\">u</span><span class=\"o\">.</span><span class=\"n\">trajectory</span><span class=\"p\">[::</span><span class=\"n\">skip</span><span class=\"p\">]):</span>\n",
       "        <span class=\"n\">phi</span><span class=\"p\">[</span><span class=\"n\">f</span><span class=\"p\">]</span> <span class=\"o\">=</span> <span class=\"n\">calc_dihedrals</span><span class=\"p\">(</span><span class=\"o\">*</span><span class=\"p\">(</span><span class=\"n\">at</span><span class=\"o\">.</span><span class=\"n\">position</span> <span class=\"k\">for</span> <span class=\"n\">at</span> <span class=\"ow\">in</span> <span class=\"n\">phi_ag</span><span class=\"p\">),</span> <span class=\"n\">box</span><span class=\"o\">=</span><span class=\"n\">ts</span><span class=\"o\">.</span><span class=\"n\">dimensions</span><span class=\"p\">)</span>\n",
       "        <span class=\"n\">psi</span><span class=\"p\">[</span><span class=\"n\">f</span><span class=\"p\">]</span> <span class=\"o\">=</span> <span class=\"n\">calc_dihedrals</span><span class=\"p\">(</span><span class=\"o\">*</span><span class=\"p\">(</span><span class=\"n\">at</span><span class=\"o\">.</span><span class=\"n\">position</span> <span class=\"k\">for</span> <span class=\"n\">at</span> <span class=\"ow\">in</span> <span class=\"n\">psi_ag</span><span class=\"p\">),</span> <span class=\"n\">box</span><span class=\"o\">=</span><span class=\"n\">ts</span><span class=\"o\">.</span><span class=\"n\">dimensions</span><span class=\"p\">)</span>\n",
       "    <span class=\"c1\"># make sure MDAnalysis closes the underlying trajectory files directly</span>\n",
       "    <span class=\"n\">u</span><span class=\"o\">.</span><span class=\"n\">trajectory</span><span class=\"o\">.</span><span class=\"n\">close</span><span class=\"p\">()</span>\n",
       "    <span class=\"c1\"># phi: -pi -&gt; 0</span>\n",
       "    <span class=\"c1\"># psi: 120 -&gt; 200 degree</span>\n",
       "    <span class=\"n\">deg</span> <span class=\"o\">=</span> <span class=\"mi\">180</span><span class=\"o\">/</span><span class=\"n\">np</span><span class=\"o\">.</span><span class=\"n\">pi</span>\n",
       "    <span class=\"n\">state</span><span class=\"p\">[(</span><span class=\"n\">phi</span> <span class=\"o\">&lt;=</span> <span class=\"mi\">0</span><span class=\"p\">)</span> <span class=\"o\">&amp;</span> <span class=\"p\">((</span><span class=\"mi\">120</span><span class=\"o\">/</span><span class=\"n\">deg</span> <span class=\"o\">&lt;=</span> <span class=\"n\">psi</span><span class=\"p\">)</span> <span class=\"o\">|</span> <span class=\"p\">(</span><span class=\"o\">-</span><span class=\"mi\">160</span><span class=\"o\">/</span><span class=\"n\">deg</span> <span class=\"o\">&gt;=</span> <span class=\"n\">psi</span><span class=\"p\">))]</span> <span class=\"o\">=</span> <span class=\"kc\">True</span>\n",
       "    <span class=\"k\">return</span> <span class=\"n\">state</span>\n",
       "\n",
       "\n",
       "<span class=\"k\">def</span><span class=\"w\"> </span><span class=\"nf\">descriptor_func_psi_phi</span><span class=\"p\">(</span><span class=\"n\">traj</span><span class=\"p\">,</span> <span class=\"n\">skip</span><span class=\"o\">=</span><span class=\"mi\">1</span><span class=\"p\">):</span>\n",
       "<span class=\"w\">    </span><span class=\"sd\">&quot;&quot;&quot;</span>\n",
       "<span class=\"sd\">    Calculate psi and phi angle internal coordiantes.</span>\n",
       "\n",
       "<span class=\"sd\">    Parameters</span>\n",
       "<span class=\"sd\">    ----------</span>\n",
       "<span class=\"sd\">    traj : asyncmd.Trajectory</span>\n",
       "<span class=\"sd\">        Input trajectory.</span>\n",
       "<span class=\"sd\">    skip : int, optional</span>\n",
       "<span class=\"sd\">        stride for trajectory iteration, by default 1</span>\n",
       "\n",
       "<span class=\"sd\">    Returns</span>\n",
       "<span class=\"sd\">    -------</span>\n",
       "<span class=\"sd\">    np.ndarray</span>\n",
       "<span class=\"sd\">        psi, phi values for trajectory, shape=(n_frames, 2)</span>\n",
       "<span class=\"sd\">    &quot;&quot;&quot;</span>\n",
       "    <span class=\"n\">u</span> <span class=\"o\">=</span> <span class=\"n\">mda</span><span class=\"o\">.</span><span class=\"n\">Universe</span><span class=\"p\">(</span><span class=\"n\">traj</span><span class=\"o\">.</span><span class=\"n\">structure_file</span><span class=\"p\">,</span> <span class=\"o\">*</span><span class=\"n\">traj</span><span class=\"o\">.</span><span class=\"n\">trajectory_files</span><span class=\"p\">)</span>\n",
       "    <span class=\"n\">psi_ag</span> <span class=\"o\">=</span> <span class=\"n\">u</span><span class=\"o\">.</span><span class=\"n\">select_atoms</span><span class=\"p\">(</span><span class=\"s2\">&quot;index 6 or index 8 or index 14 or index 16&quot;</span><span class=\"p\">)</span>\n",
       "    <span class=\"n\">phi_ag</span> <span class=\"o\">=</span> <span class=\"n\">u</span><span class=\"o\">.</span><span class=\"n\">select_atoms</span><span class=\"p\">(</span><span class=\"s2\">&quot;index 4 or index 6 or index 8 or index 14&quot;</span><span class=\"p\">)</span>\n",
       "    <span class=\"c1\"># empty arrays to fill</span>\n",
       "    <span class=\"n\">phi</span> <span class=\"o\">=</span> <span class=\"n\">np</span><span class=\"o\">.</span><span class=\"n\">empty</span><span class=\"p\">((</span><span class=\"nb\">len</span><span class=\"p\">(</span><span class=\"n\">u</span><span class=\"o\">.</span><span class=\"n\">trajectory</span><span class=\"p\">[::</span><span class=\"n\">skip</span><span class=\"p\">]),</span> <span class=\"mi\">1</span><span class=\"p\">),</span> <span class=\"n\">dtype</span><span class=\"o\">=</span><span class=\"n\">np</span><span class=\"o\">.</span><span class=\"n\">float64</span><span class=\"p\">)</span>\n",
       "    <span class=\"n\">psi</span> <span class=\"o\">=</span> <span class=\"n\">np</span><span class=\"o\">.</span><span class=\"n\">empty</span><span class=\"p\">((</span><span class=\"nb\">len</span><span class=\"p\">(</span><span class=\"n\">u</span><span class=\"o\">.</span><span class=\"n\">trajectory</span><span class=\"p\">[::</span><span class=\"n\">skip</span><span class=\"p\">]),</span> <span class=\"mi\">1</span><span class=\"p\">),</span> <span class=\"n\">dtype</span><span class=\"o\">=</span><span class=\"n\">np</span><span class=\"o\">.</span><span class=\"n\">float64</span><span class=\"p\">)</span>\n",
       "    <span class=\"k\">for</span> <span class=\"n\">f</span><span class=\"p\">,</span> <span class=\"n\">ts</span> <span class=\"ow\">in</span> <span class=\"nb\">enumerate</span><span class=\"p\">(</span><span class=\"n\">u</span><span class=\"o\">.</span><span class=\"n\">trajectory</span><span class=\"p\">[::</span><span class=\"n\">skip</span><span class=\"p\">]):</span>\n",
       "        <span class=\"n\">phi</span><span class=\"p\">[</span><span class=\"n\">f</span><span class=\"p\">,</span> <span class=\"mi\">0</span><span class=\"p\">]</span> <span class=\"o\">=</span> <span class=\"n\">calc_dihedrals</span><span class=\"p\">(</span><span class=\"o\">*</span><span class=\"p\">(</span><span class=\"n\">at</span><span class=\"o\">.</span><span class=\"n\">position</span> <span class=\"k\">for</span> <span class=\"n\">at</span> <span class=\"ow\">in</span> <span class=\"n\">phi_ag</span><span class=\"p\">),</span> <span class=\"n\">box</span><span class=\"o\">=</span><span class=\"n\">ts</span><span class=\"o\">.</span><span class=\"n\">dimensions</span><span class=\"p\">)</span>\n",
       "        <span class=\"n\">psi</span><span class=\"p\">[</span><span class=\"n\">f</span><span class=\"p\">,</span> <span class=\"mi\">0</span><span class=\"p\">]</span> <span class=\"o\">=</span> <span class=\"n\">calc_dihedrals</span><span class=\"p\">(</span><span class=\"o\">*</span><span class=\"p\">(</span><span class=\"n\">at</span><span class=\"o\">.</span><span class=\"n\">position</span> <span class=\"k\">for</span> <span class=\"n\">at</span> <span class=\"ow\">in</span> <span class=\"n\">psi_ag</span><span class=\"p\">),</span> <span class=\"n\">box</span><span class=\"o\">=</span><span class=\"n\">ts</span><span class=\"o\">.</span><span class=\"n\">dimensions</span><span class=\"p\">)</span>\n",
       "    <span class=\"c1\"># make sure MDAnalysis closes the underlying trajectory files directly</span>\n",
       "    <span class=\"n\">u</span><span class=\"o\">.</span><span class=\"n\">trajectory</span><span class=\"o\">.</span><span class=\"n\">close</span><span class=\"p\">()</span>\n",
       "    <span class=\"k\">return</span> <span class=\"n\">np</span><span class=\"o\">.</span><span class=\"n\">concatenate</span><span class=\"p\">((</span><span class=\"n\">psi</span><span class=\"p\">,</span> <span class=\"n\">phi</span><span class=\"p\">),</span> <span class=\"n\">axis</span><span class=\"o\">=</span><span class=\"mi\">1</span><span class=\"p\">)</span>\n",
       "\n",
       "\n",
       "<span class=\"k\">if</span> <span class=\"vm\">__name__</span> <span class=\"o\">==</span> <span class=\"s2\">&quot;__main__&quot;</span><span class=\"p\">:</span>\n",
       "    <span class=\"n\">parser</span> <span class=\"o\">=</span> <span class=\"n\">argparse</span><span class=\"o\">.</span><span class=\"n\">ArgumentParser</span><span class=\"p\">(</span>\n",
       "                <span class=\"n\">description</span><span class=\"o\">=</span><span class=\"s2\">&quot;Calculate CV values for alanine dipeptide&quot;</span><span class=\"p\">,</span>\n",
       "                                     <span class=\"p\">)</span>\n",
       "    <span class=\"n\">parser</span><span class=\"o\">.</span><span class=\"n\">add_argument</span><span class=\"p\">(</span><span class=\"s2\">&quot;structure_file&quot;</span><span class=\"p\">,</span> <span class=\"nb\">type</span><span class=\"o\">=</span><span class=\"nb\">str</span><span class=\"p\">)</span>\n",
       "    <span class=\"n\">parser</span><span class=\"o\">.</span><span class=\"n\">add_argument</span><span class=\"p\">(</span><span class=\"s2\">&quot;trajectory_files&quot;</span><span class=\"p\">,</span> <span class=\"nb\">type</span><span class=\"o\">=</span><span class=\"nb\">str</span><span class=\"p\">,</span> <span class=\"n\">nargs</span><span class=\"o\">=</span><span class=\"s2\">&quot;+&quot;</span><span class=\"p\">)</span>\n",
       "    <span class=\"n\">parser</span><span class=\"o\">.</span><span class=\"n\">add_argument</span><span class=\"p\">(</span><span class=\"s2\">&quot;output_file&quot;</span><span class=\"p\">,</span> <span class=\"nb\">type</span><span class=\"o\">=</span><span class=\"nb\">str</span><span class=\"p\">)</span>\n",
       "    <span class=\"n\">parser</span><span class=\"o\">.</span><span class=\"n\">add_argument</span><span class=\"p\">(</span><span class=\"s2\">&quot;-f&quot;</span><span class=\"p\">,</span> <span class=\"s2\">&quot;--function&quot;</span><span class=\"p\">,</span> <span class=\"nb\">type</span><span class=\"o\">=</span><span class=\"nb\">str</span><span class=\"p\">,</span>\n",
       "                        <span class=\"n\">default</span><span class=\"o\">=</span><span class=\"s2\">&quot;descriptors&quot;</span><span class=\"p\">,</span>\n",
       "                        <span class=\"n\">choices</span><span class=\"o\">=</span><span class=\"p\">[</span><span class=\"s2\">&quot;alphaR&quot;</span><span class=\"p\">,</span> <span class=\"s2\">&quot;C7eq&quot;</span><span class=\"p\">,</span> <span class=\"s2\">&quot;descriptors_psi_phi&quot;</span><span class=\"p\">])</span>\n",
       "    <span class=\"n\">parser</span><span class=\"o\">.</span><span class=\"n\">add_argument</span><span class=\"p\">(</span><span class=\"s2\">&quot;-s&quot;</span><span class=\"p\">,</span> <span class=\"s2\">&quot;--skip&quot;</span><span class=\"p\">,</span> <span class=\"nb\">type</span><span class=\"o\">=</span><span class=\"nb\">int</span><span class=\"p\">,</span> <span class=\"n\">default</span><span class=\"o\">=</span><span class=\"mi\">1</span><span class=\"p\">)</span>\n",
       "    <span class=\"n\">args</span> <span class=\"o\">=</span> <span class=\"n\">parser</span><span class=\"o\">.</span><span class=\"n\">parse_args</span><span class=\"p\">()</span>\n",
       "    <span class=\"c1\"># NOTE: since args is a namespace args.trajectory_file will be the path to</span>\n",
       "    <span class=\"c1\">#       the trajectory file, i.e. we can pass args instead of an</span>\n",
       "    <span class=\"c1\">#       aimmd.Trajectory to the functions above</span>\n",
       "    <span class=\"k\">if</span> <span class=\"n\">args</span><span class=\"o\">.</span><span class=\"n\">function</span> <span class=\"o\">==</span> <span class=\"s2\">&quot;descriptors_psi_phi&quot;</span><span class=\"p\">:</span>\n",
       "        <span class=\"n\">vals</span> <span class=\"o\">=</span> <span class=\"n\">descriptor_func_psi_phi</span><span class=\"p\">(</span><span class=\"n\">args</span><span class=\"p\">,</span> <span class=\"n\">skip</span><span class=\"o\">=</span><span class=\"n\">args</span><span class=\"o\">.</span><span class=\"n\">skip</span><span class=\"p\">)</span>\n",
       "    <span class=\"k\">elif</span> <span class=\"n\">args</span><span class=\"o\">.</span><span class=\"n\">function</span> <span class=\"o\">==</span> <span class=\"s2\">&quot;alphaR&quot;</span><span class=\"p\">:</span>\n",
       "        <span class=\"n\">vals</span> <span class=\"o\">=</span> <span class=\"n\">alpha_R</span><span class=\"p\">(</span><span class=\"n\">args</span><span class=\"p\">,</span> <span class=\"n\">skip</span><span class=\"o\">=</span><span class=\"n\">args</span><span class=\"o\">.</span><span class=\"n\">skip</span><span class=\"p\">)</span>\n",
       "    <span class=\"k\">elif</span> <span class=\"n\">args</span><span class=\"o\">.</span><span class=\"n\">function</span> <span class=\"o\">==</span> <span class=\"s2\">&quot;C7eq&quot;</span><span class=\"p\">:</span>\n",
       "        <span class=\"n\">vals</span> <span class=\"o\">=</span> <span class=\"n\">C7_eq</span><span class=\"p\">(</span><span class=\"n\">args</span><span class=\"p\">,</span> <span class=\"n\">skip</span><span class=\"o\">=</span><span class=\"n\">args</span><span class=\"o\">.</span><span class=\"n\">skip</span><span class=\"p\">)</span>\n",
       "\n",
       "    <span class=\"n\">np</span><span class=\"o\">.</span><span class=\"n\">save</span><span class=\"p\">(</span><span class=\"n\">args</span><span class=\"o\">.</span><span class=\"n\">output_file</span><span class=\"p\">,</span> <span class=\"n\">vals</span><span class=\"p\">)</span>\n",
       "</pre></div>\n"
      ],
      "text/plain": [
       "<IPython.core.display.HTML object>"
      ]
     },
     "execution_count": 4,
     "metadata": {},
     "output_type": "execute_result"
    }
   ],
   "source": [
    "# this is just to have a look at the file content\n",
    "from pygments import highlight\n",
    "from pygments.lexers import PythonLexer\n",
    "from pygments.formatters import HtmlFormatter\n",
    "import IPython\n",
    "\n",
    "with open('../resources/ala_cv_funcs.py') as f:\n",
    "    code = f.read()\n",
    "\n",
    "formatter = HtmlFormatter()\n",
    "IPython.display.HTML('<style type=\"text/css\">{}</style>{}'.format(\n",
    "    formatter.get_style_defs('.highlight'),\n",
    "    highlight(code, PythonLexer(), formatter)))"
   ]
  },
  {
   "cell_type": "markdown",
   "metadata": {},
   "source": [
    "## Import the state functions and wrap them\n",
    "As you hopefully have guessed from the code above each state functions returns one value for every frame in the trajectory, i.e. their output is expected to be of shape `(len(trajectory),)` and the values simply indicate whether each frame is to be considered part of the respective state (`True`) or not (`False`)."
   ]
  },
  {
   "cell_type": "code",
   "execution_count": 5,
   "metadata": {},
   "outputs": [],
   "source": [
    "cwd = os.path.abspath(os.getcwd())\n",
    "# chdir to the resources folder so we can import the state functions\n",
    "os.chdir(\"../resources/\")\n",
    "\n",
    "from ala_cv_funcs import C7_eq, alpha_R\n",
    "\n",
    "os.chdir(cwd)"
   ]
  },
  {
   "cell_type": "code",
   "execution_count": 6,
   "metadata": {},
   "outputs": [],
   "source": [
    "C7_eq_wrapped = asynctraj.PyTrajectoryFunctionWrapper(C7_eq)\n",
    "# the optional call_kwargs argument can be used to specify additional keyword arguments\n",
    "# [we pass skip=1 which does not do anything because it is the default value only to show that call_kwargs exists]\n",
    "alpha_R_wrapped = asynctraj.PyTrajectoryFunctionWrapper(alpha_R, call_kwargs={\"skip\": 1})"
   ]
  },
  {
   "cell_type": "markdown",
   "metadata": {},
   "source": [
    "## Load two different configurations as `asyncmd.Trajectory`\n",
    "\n",
    "They belong to two different states."
   ]
  },
  {
   "cell_type": "code",
   "execution_count": 7,
   "metadata": {},
   "outputs": [],
   "source": [
    "# create an asyncmd.Trajectory of the initial configuration from the `GmxEngine.ipynb` notebook\n",
    "conf_in_alphaR = asyncmd.Trajectory(trajectory_files=\"../resources/gromacs/capped_alanine_dipeptide/conf_in_alphaR.trr\",\n",
    "                                    structure_file=\"../resources/gromacs/capped_alanine_dipeptide/conf.gro\",\n",
    "                                    )\n",
    "# create a second asyncmd.Trajectory of another configuration (in another state)\n",
    "conf_in_C7eq = asyncmd.Trajectory(trajectory_files=\"../resources/gromacs/capped_alanine_dipeptide/conf_in_C7eq.trr\",\n",
    "                                  structure_file=\"../resources/gromacs/capped_alanine_dipeptide/conf.gro\",\n",
    "                                  )"
   ]
  },
  {
   "cell_type": "markdown",
   "metadata": {},
   "source": [
    "## Apply the state functions to both configurations/trajectories simultaneously\n",
    "We use `asyncio.gather` to collect multiple tasks/coroutine executions and execute them all at once in the subprocesses to leverage the power of multiple cores."
   ]
  },
  {
   "cell_type": "code",
   "execution_count": 8,
   "metadata": {},
   "outputs": [
    {
     "name": "stdout",
     "output_type": "stream",
     "text": [
      "States (alphaR, C7_eq) for conf_in_alphaR: [array([ True]), array([False])].\n",
      "States (alphaR, C7_eq) for other_conf: [array([False]), array([ True])].\n",
      "The calculation took 0.1194 seconds\n"
     ]
    }
   ],
   "source": [
    "import time\n",
    "states = [alpha_R_wrapped, C7_eq_wrapped]\n",
    "\n",
    "start = time.time()\n",
    "states_for_conf_in_alphaR = await asyncio.gather(*(sf(conf_in_alphaR) for sf in states))\n",
    "states_for_conf_in_C7eq = await asyncio.gather(*(sf(conf_in_C7eq) for sf in states))\n",
    "end = time.time()\n",
    "\n",
    "print(f\"States (alphaR, C7_eq) for conf_in_alphaR: {states_for_conf_in_alphaR}.\")\n",
    "print(f\"States (alphaR, C7_eq) for other_conf: {states_for_conf_in_C7eq}.\")\n",
    "print(f\"The calculation took {round(end-start, 4)} seconds\")"
   ]
  },
  {
   "cell_type": "markdown",
   "metadata": {},
   "source": [
    "## Applying the state functions again, we can observe that the result is obtained much faster because it has been cached\n",
    "The caching applies to all wrapped functions, i.e. the return values of all wrapped functions operating on `asyncmd.Trajectory` objects are cached. This means that all (potentially costly) functions operating on a trajectory will have to be evaluated only once (the first time they are called), even if called multiple places in the code (e.g. because the order of execution was yet undetermined).\n",
    "\n",
    "Note that the comparison here where the trajectories just have one frame (and computing the values is cheap and fast) is one of the most unfavorable ones possible for the caching mechanism."
   ]
  },
  {
   "cell_type": "code",
   "execution_count": 9,
   "metadata": {},
   "outputs": [
    {
     "name": "stdout",
     "output_type": "stream",
     "text": [
      "States (alphaR, C7_eq) for conf_in_alphaR: [array([ True]), array([False])].\n",
      "States (alphaR, C7_eq) for other_conf: [array([False]), array([ True])].\n",
      "The calculation took 0.0021 seconds\n"
     ]
    }
   ],
   "source": [
    "start = time.time()\n",
    "states_for_conf_in_alphaR = await asyncio.gather(*(sf(conf_in_alphaR) for sf in states))\n",
    "states_for_conf_in_C7eq = await asyncio.gather(*(sf(conf_in_C7eq) for sf in states))\n",
    "end = time.time()\n",
    "\n",
    "print(f\"States (alphaR, C7_eq) for conf_in_alphaR: {states_for_conf_in_alphaR}.\")\n",
    "print(f\"States (alphaR, C7_eq) for other_conf: {states_for_conf_in_C7eq}.\")\n",
    "print(f\"The calculation took {round(end-start, 4)} seconds\")"
   ]
  },
  {
   "cell_type": "markdown",
   "metadata": {},
   "source": [
    "__Note: The naming almost gave it away, each of the conformations is in one of the states.__"
   ]
  },
  {
   "cell_type": "markdown",
   "metadata": {},
   "source": [
    "## Chain the application of TrajectoryFunctionWrappers\n",
    "\n",
    "Depending on your collective variable functions it can make sense to cache (computationally costly) intermediate results. An example would be two states that are defined in terms of the same descriptors. This is the case for the $\\alpha_R$ and $C7_{eq}$ states, which are both defined in terms of the two dihedrals $\\psi$ and $\\phi$. We will demonstrate the chaining of TrajectoryFunctionWrappers here by reimplementing the two state functions `alpha_R` and `C7_eq` on top of the output of the wrapped function `descriptor_func_psi_phi`."
   ]
  },
  {
   "cell_type": "code",
   "execution_count": 10,
   "metadata": {},
   "outputs": [],
   "source": [
    "# import the descriptor function\n",
    "cwd = os.path.abspath(os.getcwd())\n",
    "# chdir to the resources folder so we can import the function\n",
    "os.chdir(\"../resources/\")\n",
    "\n",
    "from ala_cv_funcs import descriptor_func_psi_phi\n",
    "\n",
    "os.chdir(cwd)\n",
    "\n",
    "# and wrap it\n",
    "psi_phi_wrapped = asynctraj.PyTrajectoryFunctionWrapper(descriptor_func_psi_phi)"
   ]
  },
  {
   "cell_type": "markdown",
   "metadata": {},
   "source": [
    "### (Re)define the state functions in $\\psi$ and $\\phi$\n",
    "\n",
    "Using the two functions below, the (wrapped) `descriptor_func_psi_phi` will only be called once per trajectory even if we call both state functions. In addition we can also wrap the newly defined asynchronous functions to cache their results as usual by passing them to a `PyTrajectoryFunctionWrapper`."
   ]
  },
  {
   "cell_type": "code",
   "execution_count": 11,
   "metadata": {},
   "outputs": [],
   "source": [
    "async def alpha_R_redef(traj):\n",
    "    # phi: -pi < phi < 0\n",
    "    # psi: -50 degree < psi < 30 degree\n",
    "    psi_phi = await psi_phi_wrapped(traj)\n",
    "    psi, phi = psi_phi[:, 0], psi_phi[:, 1]\n",
    "    state = np.zeros((len(traj),), dtype=bool)\n",
    "    deg = 180/np.pi\n",
    "    state[(phi <= 0) & (-50/deg <= psi) & (psi <= 30/deg)] = True\n",
    "    return state\n",
    "\n",
    "async def C7_eq_redef(traj):\n",
    "    # phi: -pi -> 0\n",
    "    # psi: 120 -> 200 degree\n",
    "    psi_phi = await psi_phi_wrapped(traj)\n",
    "    psi, phi = psi_phi[:, 0], psi_phi[:, 1]\n",
    "    state = np.zeros((len(traj),), dtype=bool)\n",
    "    deg = 180/np.pi\n",
    "    state[(phi <= 0) & ((120/deg <= psi) | (-160/deg >= psi))] = True\n",
    "    return state"
   ]
  },
  {
   "cell_type": "code",
   "execution_count": 12,
   "metadata": {},
   "outputs": [
    {
     "name": "stdout",
     "output_type": "stream",
     "text": [
      "alpha_R results for both configurations are: [array([ True]), array([False])].\n",
      "The calculation took 0.0636 seconds\n",
      "C7_eq results for both configurations are: [array([False]), array([ True])].\n",
      "The calculation took 0.0009 seconds\n"
     ]
    }
   ],
   "source": [
    "# applying the second state function should be much faster since it will use the cached intermediate results for φ and ψ\n",
    "confs = [conf_in_alphaR, conf_in_C7eq]\n",
    "\n",
    "start = time.time()\n",
    "results_alphaR_redef = await asyncio.gather(*(alpha_R_redef(conf) for conf in confs))\n",
    "end = time.time()\n",
    "print(f\"alpha_R results for both configurations are: {results_alphaR_redef}.\")\n",
    "print(f\"The calculation took {round(end-start, 4)} seconds\")\n",
    "\n",
    "start = time.time()\n",
    "results_C7eq_redef = await asyncio.gather(*(C7_eq_redef(conf) for conf in confs))\n",
    "end = time.time()\n",
    "print(f\"C7_eq results for both configurations are: {results_C7eq_redef}.\")\n",
    "print(f\"The calculation took {round(end-start, 4)} seconds\")"
   ]
  },
  {
   "cell_type": "code",
   "execution_count": 13,
   "metadata": {},
   "outputs": [
    {
     "name": "stdout",
     "output_type": "stream",
     "text": [
      "States (alphaR, C7_eq) for conf_in_alphaR: [array([ True]), array([False])].\n",
      "States (alphaR, C7_eq) for other_conf: [array([False]), array([ True])].\n",
      "The calculation took 0.0033 seconds\n",
      "Running the same 'calculation' again took 0.0016 seconds...we just retrieved the results from cache once again.\n"
     ]
    }
   ],
   "source": [
    "# wrapping the redefined state functions works as usual\n",
    "\n",
    "alpha_R_redef_wrapped = asynctraj.PyTrajectoryFunctionWrapper(alpha_R_redef)\n",
    "C7_eq_redef_wrapped = asynctraj.PyTrajectoryFunctionWrapper(C7_eq_redef)\n",
    "\n",
    "# and applying them to trajectories too\n",
    "states = [alpha_R_redef_wrapped, C7_eq_redef_wrapped]\n",
    "\n",
    "start = time.time()\n",
    "states_for_conf_in_alphaR = await asyncio.gather(*(sf(conf_in_alphaR) for sf in states))\n",
    "states_for_conf_in_C7eq = await asyncio.gather(*(sf(conf_in_C7eq) for sf in states))\n",
    "end = time.time()\n",
    "print(f\"States (alphaR, C7_eq) for conf_in_alphaR: {states_for_conf_in_alphaR}.\")\n",
    "print(f\"States (alphaR, C7_eq) for other_conf: {states_for_conf_in_C7eq}.\")\n",
    "print(f\"The calculation took {round(end-start, 4)} seconds\")\n",
    "\n",
    "# Here again the second application should be slightly faster due to caching\n",
    "start = time.time()\n",
    "states_for_conf_in_alphaR = await asyncio.gather(*(sf(conf_in_alphaR) for sf in states))\n",
    "states_for_conf_in_C7eq = await asyncio.gather(*(sf(conf_in_C7eq) for sf in states))\n",
    "end = time.time()\n",
    "print(f\"Running the same 'calculation' again took {round(end-start, 4)} seconds...we just retrieved the results from cache once again.\")"
   ]
  },
  {
   "cell_type": "markdown",
   "metadata": {},
   "source": [
    "## Plot the two configurations in the plane of $\\phi$ and $\\psi$\n",
    "We will use the wrapped `descriptor_func_psi_phi` and plot the results."
   ]
  },
  {
   "cell_type": "code",
   "execution_count": 14,
   "metadata": {},
   "outputs": [],
   "source": [
    "vals_in_alphaR, vals_in_C7eq = await asyncio.gather(psi_phi_wrapped(conf_in_alphaR), psi_phi_wrapped(conf_in_C7eq))"
   ]
  },
  {
   "cell_type": "code",
   "execution_count": 15,
   "metadata": {},
   "outputs": [
    {
     "data": {
      "image/png": "[encoded data removed]",
      "text/plain": [
       "<Figure size 500x500 with 1 Axes>"
      ]
     },
     "metadata": {},
     "output_type": "display_data"
    }
   ],
   "source": [
    "fig, axs = plt.subplots(figsize=(5,5))\n",
    "\n",
    "axs.scatter(vals_in_alphaR[:, 1], vals_in_alphaR[:, 0], label=r\"$\\alpha_R$\")\n",
    "axs.scatter(vals_in_C7eq[:, 1], vals_in_C7eq[:, 0], label=r\"$C7_{eq}$\")\n",
    "\n",
    "\n",
    "axs.set_xlim(-np.pi, np.pi)\n",
    "axs.set_ylim(-np.pi, np.pi)\n",
    "axs.set_xlabel(r\"$\\phi$\", size=14)\n",
    "axs.set_ylabel(r\"$\\psi$\", size=14)\n",
    "axs.tick_params(labelsize=12)\n",
    "axs.set_aspect(\"equal\")\n",
    "axs.legend(fontsize=14);"
   ]
  },
  {
   "cell_type": "code",
   "execution_count": null,
   "metadata": {},
   "outputs": [],
   "source": []
  }
 ],
 "metadata": {
  "kernelspec": {
   "display_name": "Python 3 (ipykernel)",
   "language": "python",
   "name": "python3"
  },
  "language_info": {
   "codemirror_mode": {
    "name": "ipython",
    "version": 3
   },
   "file_extension": ".py",
   "mimetype": "text/x-python",
   "name": "python",
   "nbconvert_exporter": "python",
   "pygments_lexer": "ipython3",
   "version": "3.13.5"
  }
 },
 "nbformat": 4,
 "nbformat_minor": 4
}
