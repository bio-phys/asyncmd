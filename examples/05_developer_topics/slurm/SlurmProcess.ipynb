{
 "cells": [
  {
   "cell_type": "markdown",
   "id": "e4e10720-3bb5-463f-b9b0-53b0fd8867d4",
   "metadata": {},
   "source": [
    "# `SlurmProcess`\n",
    "\n",
    "A wrapper around SLURM with the same interface as `asyncio.subprocess`"
   ]
  },
  {
   "cell_type": "code",
   "execution_count": null,
   "id": "2a0f1a0b-f7ad-4f33-9819-13479276d38d",
   "metadata": {},
   "outputs": [],
   "source": [
    "import asyncmd"
   ]
  },
  {
   "cell_type": "markdown",
   "id": "f1669109-6813-44b9-80c8-ee8d2243b16a",
   "metadata": {},
   "source": [
    "## Define a simple sbatch script\n",
    "\n",
    "The script just prints whatever input it gets via stdin.\n",
    "\n",
    "__NOTE:__ You might need to change the partition and memory to adopt it to the cluster you are using."
   ]
  },
  {
   "cell_type": "code",
   "execution_count": 2,
   "id": "f5c15ec3-6f5a-4468-ac46-0f9c590ab49f",
   "metadata": {},
   "outputs": [],
   "source": [
    "slurm_script_content = \"\"\"#!/bin/bash -l\n",
    "# Standard output and error will be determined from `jobname` variable passed to SlurmProcess\n",
    "# Initial working directory will be determined by `workdir` variable passed to SlurmProcess\n",
    "# Queue (Partition):\n",
    "#SBATCH --partition=s.bio  ## ADOPT TO YOUR CLUSTER!\n",
    "#SBATCH --mem=4750\n",
    "#\n",
    "# Number of nodes and MPI tasks per node:\n",
    "#SBATCH --nodes=1\n",
    "#SBATCH --ntasks-per-node=1\n",
    "#SBATCH --cpus-per-task=1\n",
    "# Wall clock limit:\n",
    "#SBATCH --time=24:00:00\n",
    "\n",
    "export OMP_NUM_THREADS=$SLURM_CPUS_PER_TASK\n",
    "export MPI_NUM_RANKS=$SLURM_NTASKS_PER_NODE\n",
    "export OMP_PLACES=cores\n",
    "\n",
    "# sleep for 10 seconds such that we can actually pipe some input to stdin before the job finishes\n",
    "sleep 10\n",
    "\n",
    "# print whatever we got via stdin\n",
    "printf \"$(</dev/stdin)\"\n",
    "\n",
    "# and a newline to seperate\n",
    "printf \"\\n\"\n",
    "printf \"Done!\"\n",
    "\"\"\""
   ]
  },
  {
   "cell_type": "code",
   "execution_count": 3,
   "id": "05005371-5dbc-4e42-9396-419e9f700f69",
   "metadata": {},
   "outputs": [],
   "source": [
    "# write the script out (the SlurmProcess expects a file as input script)\n",
    "slurm_script_name = \"test_submission.slurm\"\n",
    "with open(slurm_script_name, \"w\") as sfile:\n",
    "    sfile.write(slurm_script_content)"
   ]
  },
  {
   "cell_type": "markdown",
   "id": "d9682689-a3d0-48d6-b5dd-59a048c80568",
   "metadata": {},
   "source": [
    "## Submit a job via slurm and communicate with it via stdin"
   ]
  },
  {
   "cell_type": "code",
   "execution_count": 4,
   "id": "ae500b0b-27b2-45e7-918a-d325819a9e34",
   "metadata": {},
   "outputs": [],
   "source": [
    "# this file will be used to send data to the process,\n",
    "# it is optional but if you want to send data into the process via communicate it must be given at submission time\n",
    "# the reason being that slurm connects the stdin of the batch job to this file, i.e. it must exist when the job starts\n",
    "stdin_file = \"test_submission_stdin_file\"\n",
    "# create a slurm process\n",
    "proc = asyncmd.slurm.SlurmProcess(jobname=\"test\", sbatch_script=slurm_script_name, workdir=\".\", stdfiles_removal=\"success\")\n",
    "# and directly submit it\n",
    "await proc.submit(stdin=stdin_file)\n",
    "\n",
    "# we could also use the command below to create and submit the SlurmProcess in one go\n",
    "# this is very similar to `asyncio.create_subprocess_exec` and the recommended way if you want to submit directly\n",
    "#proc = await asyncmd.slurm.create_slurmprocess_submit(jobname=\"test\", sbatch_script=slurm_script_name, workdir=\".\", stdfiles_removal=\"success\", stdin=stdin_file)"
   ]
  },
  {
   "cell_type": "code",
   "execution_count": 5,
   "id": "1c76d3d5-ea06-41f8-98c5-f4a74cac48ce",
   "metadata": {},
   "outputs": [],
   "source": [
    "stdout, stderr = await proc.communicate(b\"Writing to proc stdin\\nThis could e.g. used to pipe the index-groups into a trajconv execution\\n...Or anything else that you want to give as input to a running SlurmJob\")"
   ]
  },
  {
   "cell_type": "markdown",
   "id": "81c5d27f-3955-4f7b-8f0b-dc29841b0f99",
   "metadata": {},
   "source": [
    "### Lets have a look at stdout and stderr"
   ]
  },
  {
   "cell_type": "code",
   "execution_count": 6,
   "id": "e7ff91c6-ff5c-4b1d-8707-d6bf2e7bb8b2",
   "metadata": {},
   "outputs": [
    {
     "name": "stdout",
     "output_type": "stream",
     "text": [
      "Writing to proc stdin\n",
      "This could e.g. used to pipe the index-groups into a trajconv execution\n",
      "...Or anything else that you want to give as input to a running SlurmJob\n",
      "Done!\n"
     ]
    }
   ],
   "source": [
    "print(stdout.decode())"
   ]
  },
  {
   "cell_type": "code",
   "execution_count": 7,
   "id": "8fdbb080-4cda-4c07-8e4c-b7f3daffdc0f",
   "metadata": {},
   "outputs": [
    {
     "name": "stdout",
     "output_type": "stream",
     "text": [
      "\n"
     ]
    }
   ],
   "source": [
    "print(stderr.decode())"
   ]
  },
  {
   "cell_type": "code",
   "execution_count": 8,
   "id": "119a529a-3aa0-4aac-b999-40eeffaa4b7f",
   "metadata": {},
   "outputs": [
    {
     "data": {
      "text/plain": [
       "0"
      ]
     },
     "execution_count": 8,
     "metadata": {},
     "output_type": "execute_result"
    }
   ],
   "source": [
    "# and the exit code of the slurm job (should be 0 if everything above worked)\n",
    "await proc.wait()"
   ]
  },
  {
   "cell_type": "code",
   "execution_count": null,
   "id": "171e2044-e2a4-4a85-9690-0ed044644c3d",
   "metadata": {},
   "outputs": [],
   "source": []
  }
 ],
 "metadata": {
  "kernelspec": {
   "display_name": "Python 3 (ipykernel)",
   "language": "python",
   "name": "python3"
  },
  "language_info": {
   "codemirror_mode": {
    "name": "ipython",
    "version": 3
   },
   "file_extension": ".py",
   "mimetype": "text/x-python",
   "name": "python",
   "nbconvert_exporter": "python",
   "pygments_lexer": "ipython3",
   "version": "3.10.4"
  }
 },
 "nbformat": 4,
 "nbformat_minor": 5
}
