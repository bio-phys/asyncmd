{
 "cells": [
  {
   "cell_type": "markdown",
   "metadata": {},
   "source": [
    "# `asyncmd.trajectory.InPartsTrajectoryPropagator`\n",
    "\n",
    "Useful for making efficient use of backfilling and/or running simulations that are longer than the time-limit, i.e. when using slurm or another queuing system. Use it together with e.g. the `SlurmGmxEngine` and not locally like here done for demonstration purposes."
   ]
  },
  {
   "cell_type": "markdown",
   "metadata": {},
   "source": [
    "## Imports and some basic checks that everything is available"
   ]
  },
  {
   "cell_type": "code",
   "execution_count": 1,
   "metadata": {},
   "outputs": [],
   "source": [
    "%%bash\n",
    "# if using the module system to make gromacs and friends available:\n",
    "# check that they are loaded!\n",
    "#module list"
   ]
  },
  {
   "cell_type": "code",
   "execution_count": 2,
   "metadata": {},
   "outputs": [
    {
     "name": "stdout",
     "output_type": "stream",
     "text": [
      "/usr/local/gromacs-2022.4/bin/gmx\n"
     ]
    }
   ],
   "source": [
    "%%bash\n",
    "# unix only, check that gmx is available\n",
    "which gmx"
   ]
  },
  {
   "cell_type": "code",
   "execution_count": 3,
   "metadata": {},
   "outputs": [],
   "source": [
    "%matplotlib inline"
   ]
  },
  {
   "cell_type": "code",
   "execution_count": 4,
   "metadata": {},
   "outputs": [],
   "source": [
    "import os\n",
    "import asyncio"
   ]
  },
  {
   "cell_type": "code",
   "execution_count": 5,
   "metadata": {},
   "outputs": [
    {
     "name": "stderr",
     "output_type": "stream",
     "text": [
      "Could not initialize SLURM cluster handling. If you are sure SLURM (sinfo/sacct/etc) is available try calling `asyncmd.config.set_slurm_settings()` with the appropriate arguments.\n"
     ]
    }
   ],
   "source": [
    "import asyncmd\n",
    "from asyncmd import gromacs as asyncgmx\n",
    "from asyncmd import trajectory as asynctraj"
   ]
  },
  {
   "cell_type": "markdown",
   "metadata": {},
   "source": [
    "## Setup working directory\n",
    "We will write the trajectory output to it."
   ]
  },
  {
   "cell_type": "code",
   "execution_count": 6,
   "metadata": {},
   "outputs": [],
   "source": [
    "workdir = \".\""
   ]
  },
  {
   "cell_type": "markdown",
   "metadata": {},
   "source": [
    "## Load two different configurations as `asyncmd.Trajectory`\n",
    "\n",
    "We will use them as starting configurations."
   ]
  },
  {
   "cell_type": "code",
   "execution_count": 7,
   "metadata": {},
   "outputs": [],
   "source": [
    "# create an asyncmd.Trajectory of the initial configuration from the `GmxEngine.ipynb` notebook\n",
    "conf_in_alphaR = asyncmd.Trajectory(trajectory_files=\"../resources/gromacs/capped_alanine_dipeptide/conf_in_alphaR.trr\",\n",
    "                                    structure_file=\"../resources/gromacs/capped_alanine_dipeptide/conf.gro\",\n",
    "                                    )\n",
    "# create a second asyncmd.Trajectory of another configuration (in another state)\n",
    "conf_in_C7eq = asyncmd.Trajectory(trajectory_files=\"../resources/gromacs/capped_alanine_dipeptide/conf_in_C7eq.trr\",\n",
    "                                  structure_file=\"../resources/gromacs/capped_alanine_dipeptide/conf.gro\",\n",
    "                                  )"
   ]
  },
  {
   "cell_type": "markdown",
   "metadata": {},
   "source": [
    "## Load and potentially modify the parameter file (mdp file) for the molecular dynamics simulations"
   ]
  },
  {
   "cell_type": "code",
   "execution_count": 8,
   "metadata": {},
   "outputs": [
    {
     "name": "stdout",
     "output_type": "stream",
     "text": [
      "C-rescale\n"
     ]
    }
   ],
   "source": [
    "# Pcoupl = C-rescale needs gromacs version >= 2021\n",
    "mdp = asyncgmx.MDP(\"../resources/gromacs/capped_alanine_dipeptide/md.mdp\")\n",
    "print(mdp[\"Pcoupl\"])\n",
    "# set nstxout-compressed, such that the engines will produce XTC trajectories\n",
    "mdp[\"nstxout-compressed\"] = 20\n",
    "# and deactivate trr trajectory output\n",
    "mdp[\"nstxout\"] = mdp[\"nstvout\"] = 0"
   ]
  },
  {
   "cell_type": "code",
   "execution_count": 9,
   "metadata": {},
   "outputs": [],
   "source": [
    "# if your gmx version is >= 2021 you should comment the next line since C-rescale give the correct ensemble (and Berendsen doesnt!)\n",
    "#mdp[\"Pcoupl\"] = \"Berendsen\""
   ]
  },
  {
   "cell_type": "markdown",
   "metadata": {},
   "source": [
    "## Initialize the `InPartsTrajectoryPropagator`s\n",
    "The `InPartsTrajectoryPropagator` produces a Trajectory of a given total length (`n_steps`) in parts of a given walltime (`walltime_per_part`). This is useful to make full use of SLURMs backfilling and also to generate Trajectories of a given total length that exceeds the queues timelimit."
   ]
  },
  {
   "cell_type": "code",
   "execution_count": 10,
   "metadata": {},
   "outputs": [],
   "source": [
    "# The walltime per trajectory part determines how long each of the parts of the trajectory will be\n",
    "\n",
    "walltime = 10 / (60 * 60)  # walltime is measured in hours, so this will be 180 s per part!\n",
    "\n",
    "propas = [asynctraj.InPartsTrajectoryPropagator(\n",
    "                                               n_steps=2e4,\n",
    "                                               engine_cls=asyncgmx.GmxEngine,\n",
    "                                               engine_kwargs={\"mdconfig\": mdp,\n",
    "                                                              \"gro_file\": \"../resources/gromacs/capped_alanine_dipeptide/conf.gro\",\n",
    "                                                              \"top_file\": \"../resources/gromacs/capped_alanine_dipeptide/topol_amber99sbildn.top\",\n",
    "                                                              \"mdrun_extra_args\": \"-nt 2\",  # limit mdrun to 2 threads\n",
    "                                                              },\n",
    "                                               walltime_per_part=walltime,\n",
    "                                                )\n",
    "          for _ in range(2)]"
   ]
  },
  {
   "cell_type": "markdown",
   "metadata": {},
   "source": [
    "## Use the `propagate_and_concatenate()` method which directly concatenates the generated trajectory parts into one trajectory\n",
    "\n",
    "The `propagate` method returns the list of trajectory parts and `cut_and_concatenate` can make the list into one continuous trajectory. The `propagate_and_concatenate` method just calls both of them in order for convenience."
   ]
  },
  {
   "cell_type": "code",
   "execution_count": 11,
   "metadata": {},
   "outputs": [],
   "source": [
    "# the `propagate_and_concatenate` method returns the concatenated trajectory of the requested (total) length\n",
    "# Using asyncio.gather as usual to do both MD runs in parallel\n",
    "wdir_alphaR = os.path.join(workdir, \"from_alphaR\")\n",
    "os.mkdir(wdir_alphaR)\n",
    "wdir_C7eq = os.path.join(workdir, \"from_C7eq\")\n",
    "os.mkdir(wdir_C7eq)\n",
    "traj_from_alphaR, traj_from_C7eq = await asyncio.gather(propas[0].propagate_and_concatenate(\n",
    "                                                                                        starting_configuration=conf_in_alphaR,\n",
    "                                                                                        workdir=wdir_alphaR,\n",
    "                                                                                        deffnm=\"from_alphaR\",\n",
    "                                                                                        tra_out=os.path.join(wdir_alphaR, \"traj_from_alphaR.xtc\")\n",
    "                                                                                                             ),\n",
    "                                                        propas[1].propagate_and_concatenate(\n",
    "                                                                                        starting_configuration=conf_in_C7eq,\n",
    "                                                                                        workdir=wdir_C7eq,\n",
    "                                                                                        deffnm=\"from_C7_eq\",\n",
    "                                                                                        tra_out=os.path.join(wdir_C7eq, \"traj_from_C7_eq.xtc\")\n",
    "                                                                                                            )\n",
    "                                                              )"
   ]
  },
  {
   "cell_type": "code",
   "execution_count": 12,
   "metadata": {},
   "outputs": [
    {
     "name": "stdout",
     "output_type": "stream",
     "text": [
      "The trajectory from alphaR has 1001 frames, the one from C7_eq has 1001 frames.\n"
     ]
    }
   ],
   "source": [
    "print(f\"The trajectory from alphaR has {len(traj_from_alphaR)} frames, the one from C7_eq has {len(traj_from_C7eq)} frames.\")"
   ]
  },
  {
   "cell_type": "markdown",
   "metadata": {},
   "source": [
    "## You can easily extend your simulations\n",
    "Here we will just reset the number of steps for the existing propagator objects, but it would work the same if we would have initialized two new ones (using `engine_cls` and `engine_kwargs` compatible with our previous run, you can change the walltime)."
   ]
  },
  {
   "cell_type": "code",
   "execution_count": 13,
   "metadata": {},
   "outputs": [],
   "source": [
    "# double the number of integration steps we want to do\n",
    "propas[0].n_steps *= 2\n",
    "propas[1].n_steps *= 2"
   ]
  },
  {
   "cell_type": "code",
   "execution_count": 14,
   "metadata": {},
   "outputs": [],
   "source": [
    "# and run again, this time passing continuation=True and overwrite=True such that we overwrite the old concatenated trajectory\n",
    "traj_from_alphaR, traj_from_C7eq = await asyncio.gather(propas[0].propagate_and_concatenate(\n",
    "                                                                                        starting_configuration=conf_in_alphaR,\n",
    "                                                                                        workdir=wdir_alphaR,\n",
    "                                                                                        deffnm=\"from_alphaR\",\n",
    "                                                                                        tra_out=os.path.join(wdir_alphaR, \"traj_from_alphaR.xtc\"),\n",
    "                                                                                        continuation=True,\n",
    "                                                                                        overwrite=True,\n",
    "                                                                                             ),\n",
    "                                                        propas[1].propagate_and_concatenate(\n",
    "                                                                                        starting_configuration=conf_in_C7eq,\n",
    "                                                                                        workdir=wdir_C7eq,\n",
    "                                                                                        deffnm=\"from_C7_eq\",\n",
    "                                                                                        tra_out=os.path.join(wdir_C7eq, \"traj_from_C7_eq.xtc\"),\n",
    "                                                                                        continuation=True,\n",
    "                                                                                        overwrite=True,\n",
    "                                                                                            )\n",
    "                                                              )"
   ]
  },
  {
   "cell_type": "code",
   "execution_count": 15,
   "metadata": {},
   "outputs": [
    {
     "name": "stdout",
     "output_type": "stream",
     "text": [
      "The trajectory from alphaR has 2001 frames, the one from C7_eq has 2001 frames.\n"
     ]
    }
   ],
   "source": [
    "print(f\"The trajectory from alphaR has {len(traj_from_alphaR)} frames, the one from C7_eq has {len(traj_from_C7eq)} frames.\")"
   ]
  },
  {
   "cell_type": "code",
   "execution_count": null,
   "metadata": {},
   "outputs": [],
   "source": []
  }
 ],
 "metadata": {
  "kernelspec": {
   "display_name": "Python 3 (ipykernel)",
   "language": "python",
   "name": "python3"
  },
  "language_info": {
   "codemirror_mode": {
    "name": "ipython",
    "version": 3
   },
   "file_extension": ".py",
   "mimetype": "text/x-python",
   "name": "python",
   "nbconvert_exporter": "python",
   "pygments_lexer": "ipython3",
   "version": "3.13.5"
  }
 },
 "nbformat": 4,
 "nbformat_minor": 4
}
