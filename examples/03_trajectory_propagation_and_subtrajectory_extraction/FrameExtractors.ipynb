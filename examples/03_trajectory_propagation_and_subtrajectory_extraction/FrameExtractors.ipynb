{
 "cells": [
  {
   "cell_type": "markdown",
   "metadata": {},
   "source": [
    "# `asyncmd.trajectory.convert.FrameExtractor`\n",
    "\n",
    "The `asyncmd.trajectory.convert` module contains various predefined classes to extract single frames from Trajectories, possibly after applying a modification. It is also very easy to write your own `FrameExtractor` class with a custom modification. This is as easy as subclassing from `asyncmd.trajectory.convert.FrameExtractor` and implementing the `apply_modification` method (see below).\n",
    "\n",
    "The `asyncmd.trajectory.convert` module also contains a `TrajectoryConcatenator`, which can be used to concatenate/write out trajectories from a list of trajectories and slices (it is explained in more detail in the notebook `ConditionalTrajectoryPropagator.ipynp`)."
   ]
  },
  {
   "cell_type": "markdown",
   "metadata": {},
   "source": [
    "## Imports and some basic checks that everything is available"
   ]
  },
  {
   "cell_type": "code",
   "execution_count": 1,
   "metadata": {},
   "outputs": [],
   "source": [
    "%%bash\n",
    "# if using the module system to make gromacs and friends available:\n",
    "# check that they are loaded!\n",
    "#module list"
   ]
  },
  {
   "cell_type": "code",
   "execution_count": 2,
   "metadata": {},
   "outputs": [
    {
     "name": "stdout",
     "output_type": "stream",
     "text": [
      "/usr/local/gromacs-2022.4/bin/gmx\n"
     ]
    }
   ],
   "source": [
    "%%bash\n",
    "# unix only, check that gmx is available\n",
    "which gmx"
   ]
  },
  {
   "cell_type": "code",
   "execution_count": 3,
   "metadata": {},
   "outputs": [],
   "source": [
    "%matplotlib inline"
   ]
  },
  {
   "cell_type": "code",
   "execution_count": 4,
   "metadata": {},
   "outputs": [],
   "source": [
    "import asyncio\n",
    "import matplotlib.pyplot as plt\n",
    "import numpy as np"
   ]
  },
  {
   "cell_type": "code",
   "execution_count": 5,
   "metadata": {},
   "outputs": [
    {
     "name": "stderr",
     "output_type": "stream",
     "text": [
      "Could not initialize SLURM cluster handling. If you are sure SLURM (sinfo/sacct/etc) is available try calling `asyncmd.config.set_slurm_settings()` with the appropriate arguments.\n"
     ]
    }
   ],
   "source": [
    "import asyncmd\n",
    "from asyncmd import gromacs as asyncgmx\n",
    "from asyncmd import trajectory as asynctraj"
   ]
  },
  {
   "cell_type": "markdown",
   "metadata": {},
   "source": [
    "## Setup working directory\n",
    "We will write the trajectory output to it."
   ]
  },
  {
   "cell_type": "code",
   "execution_count": 6,
   "metadata": {},
   "outputs": [],
   "source": [
    "workdir = \".\""
   ]
  },
  {
   "cell_type": "markdown",
   "metadata": {},
   "source": [
    "## Create a short MD trajectory to extract frames from\n",
    "\n",
    "### Load and modify the parameter file (mdp file) for the molecular dynamics simulations"
   ]
  },
  {
   "cell_type": "code",
   "execution_count": 7,
   "metadata": {},
   "outputs": [
    {
     "name": "stdout",
     "output_type": "stream",
     "text": [
      "C-rescale\n"
     ]
    }
   ],
   "source": [
    "# Pcoupl = C-rescale needs gromacs version >= 2021\n",
    "mdp = asyncgmx.MDP(\"../resources/gromacs/capped_alanine_dipeptide/md.mdp\")\n",
    "print(mdp[\"Pcoupl\"])\n",
    "# set nstxout-compressed, such that the engines will produce XTC trajectories\n",
    "mdp[\"nstxout-compressed\"] = 20\n",
    "# and deactivate trr trajectory output\n",
    "mdp[\"nstxout\"] = mdp[\"nstvout\"] = 0"
   ]
  },
  {
   "cell_type": "code",
   "execution_count": 8,
   "metadata": {},
   "outputs": [],
   "source": [
    "# if your gmx version is >= 2021 you should comment the next line since C-rescale give the correct ensemble (and Berendsen doesnt!)\n",
    "#mdp[\"Pcoupl\"] = \"Berendsen\""
   ]
  },
  {
   "cell_type": "markdown",
   "metadata": {},
   "source": [
    "### Initialize and run a `GmxEngine` to create a short trajectory\n",
    "We will use this trajectory to extract frames from using the various FrameExtractor classes."
   ]
  },
  {
   "cell_type": "code",
   "execution_count": 9,
   "metadata": {},
   "outputs": [],
   "source": [
    "engine = asyncgmx.GmxEngine(mdconfig=mdp,\n",
    "                            gro_file=\"../resources/gromacs/capped_alanine_dipeptide/conf.gro\",\n",
    "                            top_file=\"../resources/gromacs/capped_alanine_dipeptide/topol_amber99sbildn.top\",\n",
    "                            mdrun_extra_args=\"-nt 2\",\n",
    "                           )\n",
    "\n",
    "await engine.prepare(starting_configuration=None, workdir=workdir, deffnm=\"traj_to_extract_from\")\n",
    "traj = await engine.run_steps(nsteps=1e4)"
   ]
  },
  {
   "cell_type": "markdown",
   "metadata": {},
   "source": [
    "## Extract Frames using the predefined FrameExtractor classes\n",
    "\n",
    "Each `FrameExtractor` takes (one of) the arguments `mda_transformations` and `mda_transformations_setup_func` which allow you to pass/setup MDAnalysis on-the-fly transformations to e.g. center on a given molecule and wrap all molecules/atoms back into the simulation box while extracting and writing out the frame. See the `FrameExtractor` docstring for when to use `mda_transformations` and when `mda_transformations_setup_func` and see https://docs.mdanalysis.org/stable/documentation_pages/trajectory_transformations.html for more on MDAnalysis transformations."
   ]
  },
  {
   "cell_type": "code",
   "execution_count": 10,
   "metadata": {},
   "outputs": [],
   "source": [
    "# these are all the FrameExtractors,\n",
    "# note that FrameExtractor is an abstract base class, i.e. you can not instantiate it (or its subclasses without implementing the apply_modification method)\n",
    "from asyncmd.trajectory.convert import (FrameExtractor, NoModificationFrameExtractor,\n",
    "                                        InvertedVelocitiesFrameExtractor, RandomVelocitiesFrameExtractor)"
   ]
  },
  {
   "cell_type": "code",
   "execution_count": 11,
   "metadata": {},
   "outputs": [
    {
     "name": "stdout",
     "output_type": "stream",
     "text": [
      "Trajectory(trajectory_files=frame_0.trr, structure_file=traj_to_extract_from.tpr)\n",
      "Trajectory(trajectory_files=frame_1.trr, structure_file=traj_to_extract_from.tpr)\n",
      "Trajectory(trajectory_files=frame_2.trr, structure_file=traj_to_extract_from.tpr)\n",
      "Trajectory(trajectory_files=frame_3.trr, structure_file=traj_to_extract_from.tpr)\n",
      "Trajectory(trajectory_files=frame_4.trr, structure_file=traj_to_extract_from.tpr)\n",
      "Trajectory(trajectory_files=frame_5.trr, structure_file=traj_to_extract_from.tpr)\n",
      "Trajectory(trajectory_files=frame_6.trr, structure_file=traj_to_extract_from.tpr)\n",
      "Trajectory(trajectory_files=frame_7.trr, structure_file=traj_to_extract_from.tpr)\n",
      "Trajectory(trajectory_files=frame_8.trr, structure_file=traj_to_extract_from.tpr)\n",
      "Trajectory(trajectory_files=frame_9.trr, structure_file=traj_to_extract_from.tpr)\n"
     ]
    }
   ],
   "source": [
    "# extract a number of frames, each FrameExtractor works the same, so we will only use the RandomVelocitiesFrameExtractor\n",
    "extractor = RandomVelocitiesFrameExtractor(T=303, # temperature for Maxwell-Boltzmann velocities in Kelvin\n",
    "                                           )\n",
    "n_frames = 10\n",
    "for i in range(n_frames):\n",
    "    # the extract method returns the frame as an asyncmd.Trajectory\n",
    "    print(extractor.extract(outfile=f\"frame_{i}.trr\",  # where to write the frame to\n",
    "                            traj_in=traj,  # the trajectory from which we take the original frame\n",
    "                            idx=np.random.randint(len(traj)),  # the index of the frame in traj_in\n",
    "                            )\n",
    "          )"
   ]
  },
  {
   "cell_type": "markdown",
   "metadata": {},
   "source": [
    "### The extract method also has an async counterpart"
   ]
  },
  {
   "cell_type": "code",
   "execution_count": 12,
   "metadata": {},
   "outputs": [
    {
     "data": {
      "text/plain": [
       "[Trajectory(trajectory_files=frame_0.trr, structure_file=traj_to_extract_from.tpr),\n",
       " Trajectory(trajectory_files=frame_1.trr, structure_file=traj_to_extract_from.tpr),\n",
       " Trajectory(trajectory_files=frame_2.trr, structure_file=traj_to_extract_from.tpr),\n",
       " Trajectory(trajectory_files=frame_3.trr, structure_file=traj_to_extract_from.tpr),\n",
       " Trajectory(trajectory_files=frame_4.trr, structure_file=traj_to_extract_from.tpr),\n",
       " Trajectory(trajectory_files=frame_5.trr, structure_file=traj_to_extract_from.tpr),\n",
       " Trajectory(trajectory_files=frame_6.trr, structure_file=traj_to_extract_from.tpr),\n",
       " Trajectory(trajectory_files=frame_7.trr, structure_file=traj_to_extract_from.tpr),\n",
       " Trajectory(trajectory_files=frame_8.trr, structure_file=traj_to_extract_from.tpr),\n",
       " Trajectory(trajectory_files=frame_9.trr, structure_file=traj_to_extract_from.tpr)]"
      ]
     },
     "execution_count": 12,
     "metadata": {},
     "output_type": "execute_result"
    }
   ],
   "source": [
    "# it has exactly the same arguments as the extract method\n",
    "await asyncio.gather(*(extractor.extract_async(outfile=f\"frame_{i}.trr\",  # where to write the frame to\n",
    "                                               traj_in=traj,  # the trajectory from which we take the original frame\n",
    "                                               idx=np.random.randint(len(traj)),  # the index of the frame in traj_in\n",
    "                                               overwrite=True,  # overwrite=True makes sure we overwrite the existing outfiles (from the cell above) without asking/error\n",
    "                                               )\n",
    "                       for i in range(n_frames)\n",
    "                       )\n",
    "                      )"
   ]
  },
  {
   "cell_type": "markdown",
   "metadata": {},
   "source": [
    "## Writing your own `FrameExtractor` subclass"
   ]
  },
  {
   "cell_type": "code",
   "execution_count": 13,
   "metadata": {},
   "outputs": [],
   "source": [
    "# it is as easy as this:\n",
    "class CustomFrameExtractor(FrameExtractor):\n",
    "    def apply_modification(self, universe, ts):\n",
    "        # universe is the mdanalysis universe of the Trajectory/Frame that is being extracted\n",
    "        # ts is the timestep of the Frame that is being extracted\n",
    "        \n",
    "        # Here you can no apply you desired modifications to the timestep\n",
    "        ts.positions *= 100 ## dont do this in real live ;)\n",
    "\n",
    "        # the function does not (need to) return anything. Any return will be ignored\n",
    "        # But the changes to the timestep and universe will naturally be written out with the extracted frame\n",
    "\n",
    "\n",
    "# see also the implementations of the InvertedVelocitiesFrameExtractor and the RandomVelocitiesFrameExtractor in asyncmd/trajectory/convert.py"
   ]
  },
  {
   "cell_type": "code",
   "execution_count": 14,
   "metadata": {},
   "outputs": [],
   "source": [
    "custom_extract = CustomFrameExtractor()"
   ]
  },
  {
   "cell_type": "code",
   "execution_count": 15,
   "metadata": {},
   "outputs": [
    {
     "data": {
      "text/plain": [
       "Trajectory(trajectory_files=frame_custom.trr, structure_file=traj_to_extract_from.tpr)"
      ]
     },
     "execution_count": 15,
     "metadata": {},
     "output_type": "execute_result"
    }
   ],
   "source": [
    "custom_extract.extract(outfile=\"frame_custom.trr\",\n",
    "                       traj_in=traj,\n",
    "                       idx=0,\n",
    "                      )"
   ]
  },
  {
   "cell_type": "code",
   "execution_count": null,
   "metadata": {},
   "outputs": [],
   "source": []
  }
 ],
 "metadata": {
  "kernelspec": {
   "display_name": "Python 3 (ipykernel)",
   "language": "python",
   "name": "python3"
  },
  "language_info": {
   "codemirror_mode": {
    "name": "ipython",
    "version": 3
   },
   "file_extension": ".py",
   "mimetype": "text/x-python",
   "name": "python",
   "nbconvert_exporter": "python",
   "pygments_lexer": "ipython3",
   "version": "3.13.5"
  }
 },
 "nbformat": 4,
 "nbformat_minor": 4
}
